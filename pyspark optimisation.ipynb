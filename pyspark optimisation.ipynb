{
  "nbformat": 4,
  "nbformat_minor": 0,
  "metadata": {
    "colab": {
      "provenance": []
    },
    "kernelspec": {
      "name": "python3",
      "display_name": "Python 3"
    },
    "language_info": {
      "name": "python"
    }
  },
  "cells": [
    {
      "cell_type": "code",
      "execution_count": 1,
      "metadata": {
        "id": "hudFOexzeAo0"
      },
      "outputs": [],
      "source": [
        "from pyspark.sql import SparkSession"
      ]
    },
    {
      "cell_type": "code",
      "source": [
        "spark = SparkSession.builder.appName(\"pyspark optimization\").getOrCreate()"
      ],
      "metadata": {
        "id": "M9wkc2lKeMmL"
      },
      "execution_count": 2,
      "outputs": []
    },
    {
      "cell_type": "code",
      "source": [
        "from google.colab import files\n",
        "\n",
        "uploaded = files.upload()"
      ],
      "metadata": {
        "colab": {
          "base_uri": "https://localhost:8080/",
          "height": 73
        },
        "id": "D7DH1MtqeW_9",
        "outputId": "9f5e2a97-c63c-440b-afe7-a609b42c4545"
      },
      "execution_count": 3,
      "outputs": [
        {
          "output_type": "display_data",
          "data": {
            "text/plain": [
              "<IPython.core.display.HTML object>"
            ],
            "text/html": [
              "\n",
              "     <input type=\"file\" id=\"files-3f34f008-7e36-4587-aca2-b2e520c5663d\" name=\"files[]\" multiple disabled\n",
              "        style=\"border:none\" />\n",
              "     <output id=\"result-3f34f008-7e36-4587-aca2-b2e520c5663d\">\n",
              "      Upload widget is only available when the cell has been executed in the\n",
              "      current browser session. Please rerun this cell to enable.\n",
              "      </output>\n",
              "      <script>// Copyright 2017 Google LLC\n",
              "//\n",
              "// Licensed under the Apache License, Version 2.0 (the \"License\");\n",
              "// you may not use this file except in compliance with the License.\n",
              "// You may obtain a copy of the License at\n",
              "//\n",
              "//      http://www.apache.org/licenses/LICENSE-2.0\n",
              "//\n",
              "// Unless required by applicable law or agreed to in writing, software\n",
              "// distributed under the License is distributed on an \"AS IS\" BASIS,\n",
              "// WITHOUT WARRANTIES OR CONDITIONS OF ANY KIND, either express or implied.\n",
              "// See the License for the specific language governing permissions and\n",
              "// limitations under the License.\n",
              "\n",
              "/**\n",
              " * @fileoverview Helpers for google.colab Python module.\n",
              " */\n",
              "(function(scope) {\n",
              "function span(text, styleAttributes = {}) {\n",
              "  const element = document.createElement('span');\n",
              "  element.textContent = text;\n",
              "  for (const key of Object.keys(styleAttributes)) {\n",
              "    element.style[key] = styleAttributes[key];\n",
              "  }\n",
              "  return element;\n",
              "}\n",
              "\n",
              "// Max number of bytes which will be uploaded at a time.\n",
              "const MAX_PAYLOAD_SIZE = 100 * 1024;\n",
              "\n",
              "function _uploadFiles(inputId, outputId) {\n",
              "  const steps = uploadFilesStep(inputId, outputId);\n",
              "  const outputElement = document.getElementById(outputId);\n",
              "  // Cache steps on the outputElement to make it available for the next call\n",
              "  // to uploadFilesContinue from Python.\n",
              "  outputElement.steps = steps;\n",
              "\n",
              "  return _uploadFilesContinue(outputId);\n",
              "}\n",
              "\n",
              "// This is roughly an async generator (not supported in the browser yet),\n",
              "// where there are multiple asynchronous steps and the Python side is going\n",
              "// to poll for completion of each step.\n",
              "// This uses a Promise to block the python side on completion of each step,\n",
              "// then passes the result of the previous step as the input to the next step.\n",
              "function _uploadFilesContinue(outputId) {\n",
              "  const outputElement = document.getElementById(outputId);\n",
              "  const steps = outputElement.steps;\n",
              "\n",
              "  const next = steps.next(outputElement.lastPromiseValue);\n",
              "  return Promise.resolve(next.value.promise).then((value) => {\n",
              "    // Cache the last promise value to make it available to the next\n",
              "    // step of the generator.\n",
              "    outputElement.lastPromiseValue = value;\n",
              "    return next.value.response;\n",
              "  });\n",
              "}\n",
              "\n",
              "/**\n",
              " * Generator function which is called between each async step of the upload\n",
              " * process.\n",
              " * @param {string} inputId Element ID of the input file picker element.\n",
              " * @param {string} outputId Element ID of the output display.\n",
              " * @return {!Iterable<!Object>} Iterable of next steps.\n",
              " */\n",
              "function* uploadFilesStep(inputId, outputId) {\n",
              "  const inputElement = document.getElementById(inputId);\n",
              "  inputElement.disabled = false;\n",
              "\n",
              "  const outputElement = document.getElementById(outputId);\n",
              "  outputElement.innerHTML = '';\n",
              "\n",
              "  const pickedPromise = new Promise((resolve) => {\n",
              "    inputElement.addEventListener('change', (e) => {\n",
              "      resolve(e.target.files);\n",
              "    });\n",
              "  });\n",
              "\n",
              "  const cancel = document.createElement('button');\n",
              "  inputElement.parentElement.appendChild(cancel);\n",
              "  cancel.textContent = 'Cancel upload';\n",
              "  const cancelPromise = new Promise((resolve) => {\n",
              "    cancel.onclick = () => {\n",
              "      resolve(null);\n",
              "    };\n",
              "  });\n",
              "\n",
              "  // Wait for the user to pick the files.\n",
              "  const files = yield {\n",
              "    promise: Promise.race([pickedPromise, cancelPromise]),\n",
              "    response: {\n",
              "      action: 'starting',\n",
              "    }\n",
              "  };\n",
              "\n",
              "  cancel.remove();\n",
              "\n",
              "  // Disable the input element since further picks are not allowed.\n",
              "  inputElement.disabled = true;\n",
              "\n",
              "  if (!files) {\n",
              "    return {\n",
              "      response: {\n",
              "        action: 'complete',\n",
              "      }\n",
              "    };\n",
              "  }\n",
              "\n",
              "  for (const file of files) {\n",
              "    const li = document.createElement('li');\n",
              "    li.append(span(file.name, {fontWeight: 'bold'}));\n",
              "    li.append(span(\n",
              "        `(${file.type || 'n/a'}) - ${file.size} bytes, ` +\n",
              "        `last modified: ${\n",
              "            file.lastModifiedDate ? file.lastModifiedDate.toLocaleDateString() :\n",
              "                                    'n/a'} - `));\n",
              "    const percent = span('0% done');\n",
              "    li.appendChild(percent);\n",
              "\n",
              "    outputElement.appendChild(li);\n",
              "\n",
              "    const fileDataPromise = new Promise((resolve) => {\n",
              "      const reader = new FileReader();\n",
              "      reader.onload = (e) => {\n",
              "        resolve(e.target.result);\n",
              "      };\n",
              "      reader.readAsArrayBuffer(file);\n",
              "    });\n",
              "    // Wait for the data to be ready.\n",
              "    let fileData = yield {\n",
              "      promise: fileDataPromise,\n",
              "      response: {\n",
              "        action: 'continue',\n",
              "      }\n",
              "    };\n",
              "\n",
              "    // Use a chunked sending to avoid message size limits. See b/62115660.\n",
              "    let position = 0;\n",
              "    do {\n",
              "      const length = Math.min(fileData.byteLength - position, MAX_PAYLOAD_SIZE);\n",
              "      const chunk = new Uint8Array(fileData, position, length);\n",
              "      position += length;\n",
              "\n",
              "      const base64 = btoa(String.fromCharCode.apply(null, chunk));\n",
              "      yield {\n",
              "        response: {\n",
              "          action: 'append',\n",
              "          file: file.name,\n",
              "          data: base64,\n",
              "        },\n",
              "      };\n",
              "\n",
              "      let percentDone = fileData.byteLength === 0 ?\n",
              "          100 :\n",
              "          Math.round((position / fileData.byteLength) * 100);\n",
              "      percent.textContent = `${percentDone}% done`;\n",
              "\n",
              "    } while (position < fileData.byteLength);\n",
              "  }\n",
              "\n",
              "  // All done.\n",
              "  yield {\n",
              "    response: {\n",
              "      action: 'complete',\n",
              "    }\n",
              "  };\n",
              "}\n",
              "\n",
              "scope.google = scope.google || {};\n",
              "scope.google.colab = scope.google.colab || {};\n",
              "scope.google.colab._files = {\n",
              "  _uploadFiles,\n",
              "  _uploadFilesContinue,\n",
              "};\n",
              "})(self);\n",
              "</script> "
            ]
          },
          "metadata": {}
        },
        {
          "output_type": "stream",
          "name": "stdout",
          "text": [
            "Saving 2015-summary.csv to 2015-summary.csv\n"
          ]
        }
      ]
    },
    {
      "cell_type": "code",
      "source": [
        "df = spark.read.csv(  \"2015-summary.csv\", header=True, inferSchema=True)"
      ],
      "metadata": {
        "id": "t-pkCrnk0c6A"
      },
      "execution_count": 4,
      "outputs": []
    },
    {
      "cell_type": "code",
      "source": [
        "df.show()"
      ],
      "metadata": {
        "colab": {
          "base_uri": "https://localhost:8080/"
        },
        "id": "ZOhJpvPM0oAm",
        "outputId": "ab1771b6-dd15-465b-ca5c-33c36837784b"
      },
      "execution_count": 5,
      "outputs": [
        {
          "output_type": "stream",
          "name": "stdout",
          "text": [
            "+--------------------+-------------------+-----+\n",
            "|   DEST_COUNTRY_NAME|ORIGIN_COUNTRY_NAME|count|\n",
            "+--------------------+-------------------+-----+\n",
            "|       United States|            Romania|   15|\n",
            "|       United States|            Croatia|    1|\n",
            "|       United States|            Ireland|  344|\n",
            "|               Egypt|      United States|   15|\n",
            "|       United States|              India|   62|\n",
            "|       United States|          Singapore|    1|\n",
            "|       United States|            Grenada|   62|\n",
            "|          Costa Rica|      United States|  588|\n",
            "|             Senegal|      United States|   40|\n",
            "|             Moldova|      United States|    1|\n",
            "|       United States|       Sint Maarten|  325|\n",
            "|       United States|   Marshall Islands|   39|\n",
            "|              Guyana|      United States|   64|\n",
            "|               Malta|      United States|    1|\n",
            "|            Anguilla|      United States|   41|\n",
            "|             Bolivia|      United States|   30|\n",
            "|       United States|           Paraguay|    6|\n",
            "|             Algeria|      United States|    4|\n",
            "|Turks and Caicos ...|      United States|  230|\n",
            "|       United States|          Gibraltar|    1|\n",
            "+--------------------+-------------------+-----+\n",
            "only showing top 20 rows\n",
            "\n"
          ]
        }
      ]
    },
    {
      "cell_type": "code",
      "source": [
        "df.count()"
      ],
      "metadata": {
        "colab": {
          "base_uri": "https://localhost:8080/"
        },
        "id": "jMKUzp_764s5",
        "outputId": "971c4066-a2a1-4f9a-a4c1-7d783efaa003"
      },
      "execution_count": 15,
      "outputs": [
        {
          "output_type": "execute_result",
          "data": {
            "text/plain": [
              "256"
            ]
          },
          "metadata": {},
          "execution_count": 15
        }
      ]
    },
    {
      "cell_type": "code",
      "source": [
        "df.rdd.getNumPartitions()"
      ],
      "metadata": {
        "colab": {
          "base_uri": "https://localhost:8080/"
        },
        "id": "Gm-SwQkR7NVD",
        "outputId": "431184e9-88d4-41f8-b28b-58ae56502305"
      },
      "execution_count": 17,
      "outputs": [
        {
          "output_type": "execute_result",
          "data": {
            "text/plain": [
              "5"
            ]
          },
          "metadata": {},
          "execution_count": 17
        }
      ]
    },
    {
      "cell_type": "code",
      "source": [
        "from google.colab import files\n",
        "\n",
        "uploaded = files.upload()"
      ],
      "metadata": {
        "colab": {
          "base_uri": "https://localhost:8080/",
          "height": 73
        },
        "id": "XUnm2Hzq7rdv",
        "outputId": "813f33e2-f48d-4735-bdb0-97970805e218"
      },
      "execution_count": 18,
      "outputs": [
        {
          "output_type": "display_data",
          "data": {
            "text/plain": [
              "<IPython.core.display.HTML object>"
            ],
            "text/html": [
              "\n",
              "     <input type=\"file\" id=\"files-2032481b-cdc8-4bf7-9666-b4abf3dbbb58\" name=\"files[]\" multiple disabled\n",
              "        style=\"border:none\" />\n",
              "     <output id=\"result-2032481b-cdc8-4bf7-9666-b4abf3dbbb58\">\n",
              "      Upload widget is only available when the cell has been executed in the\n",
              "      current browser session. Please rerun this cell to enable.\n",
              "      </output>\n",
              "      <script>// Copyright 2017 Google LLC\n",
              "//\n",
              "// Licensed under the Apache License, Version 2.0 (the \"License\");\n",
              "// you may not use this file except in compliance with the License.\n",
              "// You may obtain a copy of the License at\n",
              "//\n",
              "//      http://www.apache.org/licenses/LICENSE-2.0\n",
              "//\n",
              "// Unless required by applicable law or agreed to in writing, software\n",
              "// distributed under the License is distributed on an \"AS IS\" BASIS,\n",
              "// WITHOUT WARRANTIES OR CONDITIONS OF ANY KIND, either express or implied.\n",
              "// See the License for the specific language governing permissions and\n",
              "// limitations under the License.\n",
              "\n",
              "/**\n",
              " * @fileoverview Helpers for google.colab Python module.\n",
              " */\n",
              "(function(scope) {\n",
              "function span(text, styleAttributes = {}) {\n",
              "  const element = document.createElement('span');\n",
              "  element.textContent = text;\n",
              "  for (const key of Object.keys(styleAttributes)) {\n",
              "    element.style[key] = styleAttributes[key];\n",
              "  }\n",
              "  return element;\n",
              "}\n",
              "\n",
              "// Max number of bytes which will be uploaded at a time.\n",
              "const MAX_PAYLOAD_SIZE = 100 * 1024;\n",
              "\n",
              "function _uploadFiles(inputId, outputId) {\n",
              "  const steps = uploadFilesStep(inputId, outputId);\n",
              "  const outputElement = document.getElementById(outputId);\n",
              "  // Cache steps on the outputElement to make it available for the next call\n",
              "  // to uploadFilesContinue from Python.\n",
              "  outputElement.steps = steps;\n",
              "\n",
              "  return _uploadFilesContinue(outputId);\n",
              "}\n",
              "\n",
              "// This is roughly an async generator (not supported in the browser yet),\n",
              "// where there are multiple asynchronous steps and the Python side is going\n",
              "// to poll for completion of each step.\n",
              "// This uses a Promise to block the python side on completion of each step,\n",
              "// then passes the result of the previous step as the input to the next step.\n",
              "function _uploadFilesContinue(outputId) {\n",
              "  const outputElement = document.getElementById(outputId);\n",
              "  const steps = outputElement.steps;\n",
              "\n",
              "  const next = steps.next(outputElement.lastPromiseValue);\n",
              "  return Promise.resolve(next.value.promise).then((value) => {\n",
              "    // Cache the last promise value to make it available to the next\n",
              "    // step of the generator.\n",
              "    outputElement.lastPromiseValue = value;\n",
              "    return next.value.response;\n",
              "  });\n",
              "}\n",
              "\n",
              "/**\n",
              " * Generator function which is called between each async step of the upload\n",
              " * process.\n",
              " * @param {string} inputId Element ID of the input file picker element.\n",
              " * @param {string} outputId Element ID of the output display.\n",
              " * @return {!Iterable<!Object>} Iterable of next steps.\n",
              " */\n",
              "function* uploadFilesStep(inputId, outputId) {\n",
              "  const inputElement = document.getElementById(inputId);\n",
              "  inputElement.disabled = false;\n",
              "\n",
              "  const outputElement = document.getElementById(outputId);\n",
              "  outputElement.innerHTML = '';\n",
              "\n",
              "  const pickedPromise = new Promise((resolve) => {\n",
              "    inputElement.addEventListener('change', (e) => {\n",
              "      resolve(e.target.files);\n",
              "    });\n",
              "  });\n",
              "\n",
              "  const cancel = document.createElement('button');\n",
              "  inputElement.parentElement.appendChild(cancel);\n",
              "  cancel.textContent = 'Cancel upload';\n",
              "  const cancelPromise = new Promise((resolve) => {\n",
              "    cancel.onclick = () => {\n",
              "      resolve(null);\n",
              "    };\n",
              "  });\n",
              "\n",
              "  // Wait for the user to pick the files.\n",
              "  const files = yield {\n",
              "    promise: Promise.race([pickedPromise, cancelPromise]),\n",
              "    response: {\n",
              "      action: 'starting',\n",
              "    }\n",
              "  };\n",
              "\n",
              "  cancel.remove();\n",
              "\n",
              "  // Disable the input element since further picks are not allowed.\n",
              "  inputElement.disabled = true;\n",
              "\n",
              "  if (!files) {\n",
              "    return {\n",
              "      response: {\n",
              "        action: 'complete',\n",
              "      }\n",
              "    };\n",
              "  }\n",
              "\n",
              "  for (const file of files) {\n",
              "    const li = document.createElement('li');\n",
              "    li.append(span(file.name, {fontWeight: 'bold'}));\n",
              "    li.append(span(\n",
              "        `(${file.type || 'n/a'}) - ${file.size} bytes, ` +\n",
              "        `last modified: ${\n",
              "            file.lastModifiedDate ? file.lastModifiedDate.toLocaleDateString() :\n",
              "                                    'n/a'} - `));\n",
              "    const percent = span('0% done');\n",
              "    li.appendChild(percent);\n",
              "\n",
              "    outputElement.appendChild(li);\n",
              "\n",
              "    const fileDataPromise = new Promise((resolve) => {\n",
              "      const reader = new FileReader();\n",
              "      reader.onload = (e) => {\n",
              "        resolve(e.target.result);\n",
              "      };\n",
              "      reader.readAsArrayBuffer(file);\n",
              "    });\n",
              "    // Wait for the data to be ready.\n",
              "    let fileData = yield {\n",
              "      promise: fileDataPromise,\n",
              "      response: {\n",
              "        action: 'continue',\n",
              "      }\n",
              "    };\n",
              "\n",
              "    // Use a chunked sending to avoid message size limits. See b/62115660.\n",
              "    let position = 0;\n",
              "    do {\n",
              "      const length = Math.min(fileData.byteLength - position, MAX_PAYLOAD_SIZE);\n",
              "      const chunk = new Uint8Array(fileData, position, length);\n",
              "      position += length;\n",
              "\n",
              "      const base64 = btoa(String.fromCharCode.apply(null, chunk));\n",
              "      yield {\n",
              "        response: {\n",
              "          action: 'append',\n",
              "          file: file.name,\n",
              "          data: base64,\n",
              "        },\n",
              "      };\n",
              "\n",
              "      let percentDone = fileData.byteLength === 0 ?\n",
              "          100 :\n",
              "          Math.round((position / fileData.byteLength) * 100);\n",
              "      percent.textContent = `${percentDone}% done`;\n",
              "\n",
              "    } while (position < fileData.byteLength);\n",
              "  }\n",
              "\n",
              "  // All done.\n",
              "  yield {\n",
              "    response: {\n",
              "      action: 'complete',\n",
              "    }\n",
              "  };\n",
              "}\n",
              "\n",
              "scope.google = scope.google || {};\n",
              "scope.google.colab = scope.google.colab || {};\n",
              "scope.google.colab._files = {\n",
              "  _uploadFiles,\n",
              "  _uploadFilesContinue,\n",
              "};\n",
              "})(self);\n",
              "</script> "
            ]
          },
          "metadata": {}
        },
        {
          "output_type": "stream",
          "name": "stdout",
          "text": [
            "Saving 2015-summary.csv to 2015-summary (1).csv\n"
          ]
        }
      ]
    },
    {
      "cell_type": "code",
      "source": [
        "df = spark.read.csv(  \"2015-summary.csv\", header=True, inferSchema=True)"
      ],
      "metadata": {
        "id": "8C3DhhN27wLp"
      },
      "execution_count": 19,
      "outputs": []
    },
    {
      "cell_type": "code",
      "source": [
        "df.show()"
      ],
      "metadata": {
        "colab": {
          "base_uri": "https://localhost:8080/"
        },
        "id": "iXdobu6N7yG3",
        "outputId": "82b143c2-d442-4516-8b2e-6afe4bec72ac"
      },
      "execution_count": 20,
      "outputs": [
        {
          "output_type": "stream",
          "name": "stdout",
          "text": [
            "+--------------------+-------------------+-----+\n",
            "|   DEST_COUNTRY_NAME|ORIGIN_COUNTRY_NAME|count|\n",
            "+--------------------+-------------------+-----+\n",
            "|       United States|            Romania|   15|\n",
            "|       United States|            Croatia|    1|\n",
            "|       United States|            Ireland|  344|\n",
            "|               Egypt|      United States|   15|\n",
            "|       United States|              India|   62|\n",
            "|       United States|          Singapore|    1|\n",
            "|       United States|            Grenada|   62|\n",
            "|          Costa Rica|      United States|  588|\n",
            "|             Senegal|      United States|   40|\n",
            "|             Moldova|      United States|    1|\n",
            "|       United States|       Sint Maarten|  325|\n",
            "|       United States|   Marshall Islands|   39|\n",
            "|              Guyana|      United States|   64|\n",
            "|               Malta|      United States|    1|\n",
            "|            Anguilla|      United States|   41|\n",
            "|             Bolivia|      United States|   30|\n",
            "|       United States|           Paraguay|    6|\n",
            "|             Algeria|      United States|    4|\n",
            "|Turks and Caicos ...|      United States|  230|\n",
            "|       United States|          Gibraltar|    1|\n",
            "+--------------------+-------------------+-----+\n",
            "only showing top 20 rows\n",
            "\n"
          ]
        }
      ]
    },
    {
      "cell_type": "code",
      "source": [
        "df.count()"
      ],
      "metadata": {
        "colab": {
          "base_uri": "https://localhost:8080/"
        },
        "id": "psubtt3w70Qh",
        "outputId": "c2c07efc-03af-4ebc-c29f-dd2d14a741b6"
      },
      "execution_count": 21,
      "outputs": [
        {
          "output_type": "execute_result",
          "data": {
            "text/plain": [
              "256"
            ]
          },
          "metadata": {},
          "execution_count": 21
        }
      ]
    },
    {
      "cell_type": "code",
      "source": [
        "df.rdd.getNumPartitions()"
      ],
      "metadata": {
        "colab": {
          "base_uri": "https://localhost:8080/"
        },
        "id": "UojGsHS-724_",
        "outputId": "f157d41a-b634-421a-addb-775d73d35cdc"
      },
      "execution_count": 22,
      "outputs": [
        {
          "output_type": "execute_result",
          "data": {
            "text/plain": [
              "1"
            ]
          },
          "metadata": {},
          "execution_count": 22
        }
      ]
    },
    {
      "cell_type": "markdown",
      "source": [
        "Repartitions and Coalesce"
      ],
      "metadata": {
        "id": "XuqTPdFCGtD7"
      }
    },
    {
      "cell_type": "code",
      "source": [
        "repartition_df= df.repartition(4)\n",
        "repartition_df.rdd.getNumPartitions()"
      ],
      "metadata": {
        "colab": {
          "base_uri": "https://localhost:8080/"
        },
        "id": "-z-ks9vm8Hgf",
        "outputId": "9c222645-1a11-4998-9566-45b354598901"
      },
      "execution_count": 31,
      "outputs": [
        {
          "output_type": "execute_result",
          "data": {
            "text/plain": [
              "4"
            ]
          },
          "metadata": {},
          "execution_count": 31
        }
      ]
    },
    {
      "cell_type": "code",
      "source": [
        "from pyspark.sql.functions import spark_partition_id\n",
        "repartition_df.withColumn(\"partitionId\", spark_partition_id()).groupBy(\"partitionId\").count().show()"
      ],
      "metadata": {
        "colab": {
          "base_uri": "https://localhost:8080/"
        },
        "id": "ggmEk1j5-Vke",
        "outputId": "c26d7380-9439-4cfa-b665-cc2d925bd9a0"
      },
      "execution_count": 33,
      "outputs": [
        {
          "output_type": "stream",
          "name": "stdout",
          "text": [
            "+-----------+-----+\n",
            "|partitionId|count|\n",
            "+-----------+-----+\n",
            "|          0|   64|\n",
            "|          1|   64|\n",
            "|          2|   64|\n",
            "|          3|   64|\n",
            "+-----------+-----+\n",
            "\n"
          ]
        }
      ]
    },
    {
      "cell_type": "code",
      "source": [
        "partitioned_on_column = df.repartition(25, \"DEST_COUNTRY_NAME\")\n",
        "partitioned_on_column.rdd.getNumPartitions()"
      ],
      "metadata": {
        "colab": {
          "base_uri": "https://localhost:8080/"
        },
        "id": "Rk57w4PT_AwQ",
        "outputId": "2c8b19ee-e342-403b-84db-48054af4d0e4"
      },
      "execution_count": 35,
      "outputs": [
        {
          "output_type": "execute_result",
          "data": {
            "text/plain": [
              "25"
            ]
          },
          "metadata": {},
          "execution_count": 35
        }
      ]
    },
    {
      "cell_type": "code",
      "source": [
        "partitioned_on_column.withColumn(\"partitionId\",spark_partition_id()).groupBy(\"partitionId\").count().show(25)"
      ],
      "metadata": {
        "colab": {
          "base_uri": "https://localhost:8080/"
        },
        "id": "QWsMZvn9APBW",
        "outputId": "ea9d1d6a-2ffd-458f-910d-8d4d4d93c77f"
      },
      "execution_count": 36,
      "outputs": [
        {
          "output_type": "stream",
          "name": "stdout",
          "text": [
            "+-----------+-----+\n",
            "|partitionId|count|\n",
            "+-----------+-----+\n",
            "|          0|    5|\n",
            "|          1|    6|\n",
            "|          2|    7|\n",
            "|          3|    5|\n",
            "|          4|    6|\n",
            "|          5|    7|\n",
            "|          6|    8|\n",
            "|          7|    5|\n",
            "|          8|    3|\n",
            "|          9|  132|\n",
            "|         10|    4|\n",
            "|         11|    3|\n",
            "|         12|    6|\n",
            "|         13|    8|\n",
            "|         14|    2|\n",
            "|         15|   11|\n",
            "|         16|    4|\n",
            "|         17|    4|\n",
            "|         18|    3|\n",
            "|         19|    4|\n",
            "|         20|    8|\n",
            "|         21|    4|\n",
            "|         22|    4|\n",
            "|         23|    5|\n",
            "|         24|    2|\n",
            "+-----------+-----+\n",
            "\n"
          ]
        }
      ]
    },
    {
      "cell_type": "code",
      "source": [
        "coalesce_df = repartition_df.repartition(8)"
      ],
      "metadata": {
        "id": "olqu7gITBAxx"
      },
      "execution_count": 40,
      "outputs": []
    },
    {
      "cell_type": "code",
      "source": [
        "coalesce_df.withColumn(\"partitonId\",spark_partition_id()).groupBy(\"partitonId\").count().show()"
      ],
      "metadata": {
        "colab": {
          "base_uri": "https://localhost:8080/"
        },
        "id": "IkdcEF6sB3WZ",
        "outputId": "ed6956d3-b5d3-4070-cf7b-d7ec2e65a045"
      },
      "execution_count": 41,
      "outputs": [
        {
          "output_type": "stream",
          "name": "stdout",
          "text": [
            "+----------+-----+\n",
            "|partitonId|count|\n",
            "+----------+-----+\n",
            "|         0|   32|\n",
            "|         1|   32|\n",
            "|         2|   32|\n",
            "|         3|   32|\n",
            "|         4|   32|\n",
            "|         5|   32|\n",
            "|         6|   32|\n",
            "|         7|   32|\n",
            "+----------+-----+\n",
            "\n"
          ]
        }
      ]
    },
    {
      "cell_type": "code",
      "source": [
        "three_coalese_df = coalesce_df.coalesce(3)"
      ],
      "metadata": {
        "id": "dkKqrdWSEKmB"
      },
      "execution_count": 42,
      "outputs": []
    },
    {
      "cell_type": "code",
      "source": [
        "three_coalese_df.withColumn(\"partitonId\",spark_partition_id()).groupBy(\"partitonId\").count().show()"
      ],
      "metadata": {
        "colab": {
          "base_uri": "https://localhost:8080/"
        },
        "id": "NekcWVmvEhUm",
        "outputId": "4e718b46-bdaf-4d53-8a70-4fed8744d28e"
      },
      "execution_count": 44,
      "outputs": [
        {
          "output_type": "stream",
          "name": "stdout",
          "text": [
            "+----------+-----+\n",
            "|partitonId|count|\n",
            "+----------+-----+\n",
            "|         0|   64|\n",
            "|         1|   96|\n",
            "|         2|   96|\n",
            "+----------+-----+\n",
            "\n"
          ]
        }
      ]
    },
    {
      "cell_type": "markdown",
      "source": [
        "#cache & persist"
      ],
      "metadata": {
        "id": "oDH5HKgOJmhQ"
      }
    },
    {
      "cell_type": "code",
      "source": [
        "from pyspark.sql.functions import col\n",
        "origin_df = df.filter(col(\"ORIGIN_COUNTRY_NAME\")==\"origincountry names\")"
      ],
      "metadata": {
        "id": "jSyOudQkG0Ya"
      },
      "execution_count": 45,
      "outputs": []
    },
    {
      "cell_type": "code",
      "source": [
        "origin_df.cache()\n",
        "origin_df.count()    #for initiang or calling cache\n",
        "\n",
        "origin_df.groupBy(\"DEST_COUNTRY_NAME\").sum(\"count\").show()"
      ],
      "metadata": {
        "colab": {
          "base_uri": "https://localhost:8080/"
        },
        "id": "8CqfDY_uoJBj",
        "outputId": "fe0417b0-f9d9-43ce-e7c6-40b67276ffce"
      },
      "execution_count": 47,
      "outputs": [
        {
          "output_type": "stream",
          "name": "stdout",
          "text": [
            "+-----------------+----------+\n",
            "|DEST_COUNTRY_NAME|sum(count)|\n",
            "+-----------------+----------+\n",
            "+-----------------+----------+\n",
            "\n"
          ]
        }
      ]
    },
    {
      "cell_type": "code",
      "source": [
        "from pyspark.sql import SparkSession\n",
        "from pyspark.sql.functions import col\n",
        "\n",
        "spark = SparkSession.builder.appName(\"Cache Example\").getOrCreate()\n",
        "\n",
        "# Original dataset\n",
        "df = spark.createDataFrame([\n",
        "    (\"Alice\", \"Electronics\", 500),\n",
        "    (\"Bob\", \"Electronics\", 300),\n",
        "    (\"Alice\", \"Clothing\", 200),\n",
        "    (\"Bob\", \"Clothing\", 100),\n",
        "    (\"Charlie\", \"Electronics\", 150)\n",
        "], [\"customer\", \"category\", \"amount\"])\n",
        "\n",
        "# Filter for Electronics (used multiple times)\n",
        "electronics_df = df.filter(col(\"category\") == \"Electronics\")"
      ],
      "metadata": {
        "id": "eVTLfrYcpZWJ"
      },
      "execution_count": 48,
      "outputs": []
    },
    {
      "cell_type": "code",
      "source": [
        "df.show()"
      ],
      "metadata": {
        "colab": {
          "base_uri": "https://localhost:8080/"
        },
        "id": "QuILMWXipbSL",
        "outputId": "6f78d069-e5dd-4e94-ba60-e7377a54be6e"
      },
      "execution_count": 50,
      "outputs": [
        {
          "output_type": "stream",
          "name": "stdout",
          "text": [
            "+--------+-----------+------+\n",
            "|customer|   category|amount|\n",
            "+--------+-----------+------+\n",
            "|   Alice|Electronics|   500|\n",
            "|     Bob|Electronics|   300|\n",
            "|   Alice|   Clothing|   200|\n",
            "|     Bob|   Clothing|   100|\n",
            "| Charlie|Electronics|   150|\n",
            "+--------+-----------+------+\n",
            "\n"
          ]
        }
      ]
    },
    {
      "cell_type": "code",
      "source": [
        "electronics_df.cache()\n",
        "electronics_df.count()  # triggers cache\n",
        "\n",
        "electronics_df.groupBy(\"customer\").sum(\"amount\").show()\n",
        "electronics_df.agg({\"amount\": \"avg\"}).show()"
      ],
      "metadata": {
        "colab": {
          "base_uri": "https://localhost:8080/"
        },
        "id": "mPXqV-JIph05",
        "outputId": "ee7a7263-67d5-4f36-fae4-f3d59bd998d8"
      },
      "execution_count": 51,
      "outputs": [
        {
          "output_type": "stream",
          "name": "stdout",
          "text": [
            "+--------+-----------+\n",
            "|customer|sum(amount)|\n",
            "+--------+-----------+\n",
            "|     Bob|        300|\n",
            "|   Alice|        500|\n",
            "| Charlie|        150|\n",
            "+--------+-----------+\n",
            "\n",
            "+-----------------+\n",
            "|      avg(amount)|\n",
            "+-----------------+\n",
            "|316.6666666666667|\n",
            "+-----------------+\n",
            "\n"
          ]
        }
      ]
    },
    {
      "cell_type": "code",
      "source": [
        "import time\n",
        "from pyspark import StorageLevel\n",
        "filtered_df = df.filter(df[\"amount\"] > 150).persist(StorageLevel.MEMORY_AND_DISK)\n",
        "\n",
        "# First action triggers caching\n",
        "start = time.time()\n",
        "filtered_df.count()\n",
        "print(\"With persist - first action (triggers cache):\", round(time.time() - start, 2), \"sec\")\n",
        "\n",
        "# Second action reuses the cache\n",
        "start = time.time()\n",
        "filtered_df.groupBy(\"customer\").sum(\"amount\").show()\n",
        "print(\"With persist - second action (faster):\", round(time.time() - start, 2), \"sec\")"
      ],
      "metadata": {
        "colab": {
          "base_uri": "https://localhost:8080/"
        },
        "id": "6t9p9LCTqAqR",
        "outputId": "053dc05b-e282-4c0a-ec7c-a97336adf2e5"
      },
      "execution_count": 54,
      "outputs": [
        {
          "output_type": "stream",
          "name": "stdout",
          "text": [
            "With persist - first action (triggers cache): 0.93 sec\n",
            "+--------+-----------+\n",
            "|customer|sum(amount)|\n",
            "+--------+-----------+\n",
            "|     Bob|        300|\n",
            "|   Alice|        700|\n",
            "+--------+-----------+\n",
            "\n",
            "With persist - second action (faster): 0.43 sec\n"
          ]
        }
      ]
    },
    {
      "cell_type": "code",
      "source": [
        "filtered_df.unpersist()"
      ],
      "metadata": {
        "colab": {
          "base_uri": "https://localhost:8080/"
        },
        "id": "lEbWYClWxEcR",
        "outputId": "199586aa-387b-4f31-e8d2-cb11f2c8e10b"
      },
      "execution_count": 57,
      "outputs": [
        {
          "output_type": "execute_result",
          "data": {
            "text/plain": [
              "DataFrame[customer: string, category: string, amount: bigint]"
            ]
          },
          "metadata": {},
          "execution_count": 57
        }
      ]
    },
    {
      "cell_type": "markdown",
      "source": [
        "#broadcasting join Vs Shuffle join"
      ],
      "metadata": {
        "id": "slpoC_B7145A"
      }
    },
    {
      "cell_type": "code",
      "source": [
        "#big dataframe\n",
        "df_transactions = spark.createDataFrame([\n",
        "    (1,\"us\", 1000),\n",
        "    (1,\"us\", 1000),\n",
        "    (1,\"us\", 1000),\n",
        "    (1,\"us\", 1000),\n",
        "],  [\"id\",\"country_code\",\"amount\"])\n",
        "\n",
        "#small dataset\n",
        "\n",
        "df_countries = spark.createDataFrame([\n",
        "    (\"us\",\"united states\"),\n",
        "    (\"In\", \"india\"),\n",
        "    (\"uk\",\"united kigdom\"),\n",
        "], [\"country-code\", \"country_name\"])"
      ],
      "metadata": {
        "id": "cRmeHo6IxT9h"
      },
      "execution_count": 59,
      "outputs": []
    },
    {
      "cell_type": "code",
      "source": [
        "df_transactions.show()"
      ],
      "metadata": {
        "colab": {
          "base_uri": "https://localhost:8080/"
        },
        "id": "Voi4rDIo13I5",
        "outputId": "baa1283a-2386-447b-b8a1-4caa9452ebb9"
      },
      "execution_count": 60,
      "outputs": [
        {
          "output_type": "stream",
          "name": "stdout",
          "text": [
            "+---+------------+------+\n",
            "| id|country_code|amount|\n",
            "+---+------------+------+\n",
            "|  1|          us|  1000|\n",
            "|  1|          us|  1000|\n",
            "|  1|          us|  1000|\n",
            "|  1|          us|  1000|\n",
            "+---+------------+------+\n",
            "\n"
          ]
        }
      ]
    },
    {
      "cell_type": "code",
      "source": [
        "df_countries.show()"
      ],
      "metadata": {
        "colab": {
          "base_uri": "https://localhost:8080/"
        },
        "id": "Y1hN_X2d2rnZ",
        "outputId": "71f7377b-d300-4413-aac9-440284373967"
      },
      "execution_count": 61,
      "outputs": [
        {
          "output_type": "stream",
          "name": "stdout",
          "text": [
            "+------------+-------------+\n",
            "|country-code| country_name|\n",
            "+------------+-------------+\n",
            "|          us|united states|\n",
            "|          In|        india|\n",
            "|          uk|united kigdom|\n",
            "+------------+-------------+\n",
            "\n"
          ]
        }
      ]
    },
    {
      "cell_type": "code",
      "source": [
        "df_join= df_transactions.join(df_countries, df_transactions[\"country_code\"]==df_countries[\"country-code\"],\"inner\")"
      ],
      "metadata": {
        "id": "qznAwwXb3szo"
      },
      "execution_count": 62,
      "outputs": []
    },
    {
      "cell_type": "code",
      "source": [
        "df_join.show()"
      ],
      "metadata": {
        "colab": {
          "base_uri": "https://localhost:8080/"
        },
        "id": "gStceodk4OYa",
        "outputId": "c7f182b0-c847-4311-d53f-7bfe22d8ec27"
      },
      "execution_count": 63,
      "outputs": [
        {
          "output_type": "stream",
          "name": "stdout",
          "text": [
            "+---+------------+------+------------+-------------+\n",
            "| id|country_code|amount|country-code| country_name|\n",
            "+---+------------+------+------------+-------------+\n",
            "|  1|          us|  1000|          us|united states|\n",
            "|  1|          us|  1000|          us|united states|\n",
            "|  1|          us|  1000|          us|united states|\n",
            "|  1|          us|  1000|          us|united states|\n",
            "+---+------------+------+------------+-------------+\n",
            "\n"
          ]
        }
      ]
    },
    {
      "cell_type": "code",
      "source": [
        "#broadcast joins dont shuffle instead send the small tables to each of the executor node\n",
        "from pyspark.sql.functions import broadcast\n",
        "\n",
        "df_join = df_transactions.join(\n",
        "    broadcast(df_countries),\n",
        "    df_transactions[\"country_code\"] == df_countries[\"country-code\"],\n",
        "    \"inner\")"
      ],
      "metadata": {
        "id": "L7dOSYul4z1J"
      },
      "execution_count": null,
      "outputs": []
    },
    {
      "cell_type": "markdown",
      "source": [
        "#Task"
      ],
      "metadata": {
        "id": "2W0xZGbo_0fU"
      }
    },
    {
      "cell_type": "code",
      "source": [
        "from pyspark.sql.functions import broadcast\n",
        "import time\n",
        "spark = SparkSession.builder.appName(\"SimpleOptimization\").getOrCreate()\n",
        "\n",
        "# Making Small lookup table\n",
        "products = [(1, \"computer\"), (2, \"Mouse\"), (3, \"Keyboard\")]\n",
        "df_products = spark.createDataFrame(products, [\"product_id\", \"product_name\"])\n",
        "\n",
        "# Now, Small order table\n",
        "orders = [(101, 1), (102, 2), (103, 3)]\n",
        "df_orders = spark.createDataFrame(orders, [\"order_id\", \"product_id\"])\n",
        "\n",
        "# by repeating 10 times(large orders)\n",
        "df_large_orders = df_orders\n",
        "for _ in range(10):\n",
        "    df_large_orders = df_large_orders.union(df_orders)\n",
        "\n",
        "# No optimization\n",
        "start = time.time()\n",
        "df_join1 = df_large_orders.join(df_products, \"product_id\")\n",
        "df_join1.show()\n",
        "print(\"Time without optimization:\", round(time.time() - start, 2), \"sec\")\n",
        "\n",
        "# Optimization\n",
        "df_large_orders = df_large_orders.repartition(4)\n",
        "df_large_orders.cache()\n",
        "\n",
        "start = time.time()\n",
        "df_join2 = df_large_orders.join(broadcast(df_products), \"product_id\")\n",
        "df_join2.show()\n",
        "print(\"Time with optimization:\", round(time.time() - start, 2), \"sec\")"
      ],
      "metadata": {
        "colab": {
          "base_uri": "https://localhost:8080/"
        },
        "id": "L7I9OTmXE18T",
        "outputId": "ca2877cf-5fd3-4ac5-ca5d-93dbdc7b025b"
      },
      "execution_count": 67,
      "outputs": [
        {
          "output_type": "stream",
          "name": "stdout",
          "text": [
            "+----------+--------+------------+\n",
            "|product_id|order_id|product_name|\n",
            "+----------+--------+------------+\n",
            "|         1|     101|    computer|\n",
            "|         1|     101|    computer|\n",
            "|         1|     101|    computer|\n",
            "|         1|     101|    computer|\n",
            "|         1|     101|    computer|\n",
            "|         1|     101|    computer|\n",
            "|         1|     101|    computer|\n",
            "|         1|     101|    computer|\n",
            "|         1|     101|    computer|\n",
            "|         1|     101|    computer|\n",
            "|         1|     101|    computer|\n",
            "|         2|     102|       Mouse|\n",
            "|         2|     102|       Mouse|\n",
            "|         2|     102|       Mouse|\n",
            "|         2|     102|       Mouse|\n",
            "|         2|     102|       Mouse|\n",
            "|         2|     102|       Mouse|\n",
            "|         2|     102|       Mouse|\n",
            "|         2|     102|       Mouse|\n",
            "|         2|     102|       Mouse|\n",
            "+----------+--------+------------+\n",
            "only showing top 20 rows\n",
            "\n",
            "Time without optimization: 5.12 sec\n",
            "+----------+--------+------------+\n",
            "|product_id|order_id|product_name|\n",
            "+----------+--------+------------+\n",
            "|         1|     101|    computer|\n",
            "|         2|     102|       Mouse|\n",
            "|         3|     103|    Keyboard|\n",
            "|         1|     101|    computer|\n",
            "|         2|     102|       Mouse|\n",
            "|         2|     102|       Mouse|\n",
            "|         2|     102|       Mouse|\n",
            "|         2|     102|       Mouse|\n",
            "|         1|     101|    computer|\n",
            "|         2|     102|       Mouse|\n",
            "|         3|     103|    Keyboard|\n",
            "|         1|     101|    computer|\n",
            "|         3|     103|    Keyboard|\n",
            "|         2|     102|       Mouse|\n",
            "|         1|     101|    computer|\n",
            "|         3|     103|    Keyboard|\n",
            "|         1|     101|    computer|\n",
            "|         2|     102|       Mouse|\n",
            "|         2|     102|       Mouse|\n",
            "|         3|     103|    Keyboard|\n",
            "+----------+--------+------------+\n",
            "only showing top 20 rows\n",
            "\n",
            "Time with optimization: 5.64 sec\n"
          ]
        }
      ]
    }
  ]
}